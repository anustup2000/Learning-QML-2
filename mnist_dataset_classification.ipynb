{
 "cells": [
  {
   "cell_type": "code",
   "execution_count": 1,
   "id": "be72d46b",
   "metadata": {},
   "outputs": [],
   "source": [
    "#General Imports\n",
    "import math\n",
    "import numpy as np \n",
    "import matplotlib.pyplot as plt\n",
    "import pylab as pl\n",
    "\n",
    "\n",
    "#ScikitLearn Imports\n",
    "from sklearn import datasets\n",
    "from sklearn.model_selection import train_test_split\n",
    "from skimage.transform import resize\n",
    "from sklearn.svm import SVC \n",
    "\n",
    "#Qiskit imports\n",
    "from qiskit import QuantumCircuit, Aer,QuantumRegister, ClassicalRegister, execute, IBMQ\n",
    "from qiskit.circuit import ParameterVector,Parameter\n",
    "from qiskit.utils import QuantumInstance\n",
    "from qiskit.circuit.library import ZFeatureMap, ZZFeatureMap, PauliFeatureMap\n",
    "from qiskit_machine_learning.circuit.library import RawFeatureVector\n",
    "from qiskit_machine_learning.kernels import QuantumKernel\n",
    "from utils2 import *\n",
    "\n",
    "import os\n",
    "os.environ['QISKIT_IN_PARALLEL'] = 'TRUE'\n",
    "\n",
    "SEED = 1430"
   ]
  },
  {
   "cell_type": "code",
   "execution_count": 2,
   "id": "da5a26db",
   "metadata": {},
   "outputs": [],
   "source": [
    "import matplotlib.pyplot as plt\n",
    "import numpy as np\n",
    "import pylab as pl\n",
    "from sklearn.datasets import make_circles"
   ]
  },
  {
   "cell_type": "code",
   "execution_count": 3,
   "id": "1f712f88",
   "metadata": {},
   "outputs": [],
   "source": [
    "# dataset is made up of 1797 8x8 images (https://scikit-learn.org/stable/auto_examples/datasets/plot_digits_last_image.html)\n",
    "mnist = datasets.load_digits()"
   ]
  },
  {
   "cell_type": "code",
   "execution_count": 4,
   "id": "c637afe2",
   "metadata": {},
   "outputs": [
    {
     "data": {
      "image/png": "[encoded data removed]",
      "text/plain": [
       "<Figure size 1440x432 with 30 Axes>"
      ]
     },
     "metadata": {},
     "output_type": "display_data"
    }
   ],
   "source": [
    "show_images(mnist.images, mnist.target)"
   ]
  },
  {
   "cell_type": "code",
   "execution_count": 5,
   "id": "a3109b5f",
   "metadata": {},
   "outputs": [],
   "source": [
    "# Filter digits and targets\n",
    "labels = [0, 3]\n",
    "x = mnist.images[[t in labels for t in mnist.target]]\n",
    "y = mnist.target[[t in labels for t in mnist.target]]\n",
    "\n",
    "# We keep only 24 images for each label\n",
    "class_size = 24\n",
    "x0 = x[y == labels[0]][:class_size:]\n",
    "x1 = x[y == labels[1]][:class_size:]"
   ]
  },
  {
   "cell_type": "code",
   "execution_count": 6,
   "id": "7c3ec656",
   "metadata": {},
   "outputs": [
    {
     "name": "stdout",
     "output_type": "stream",
     "text": [
      "Size of the train set: 38\n",
      "Size of the test set: 10\n"
     ]
    }
   ],
   "source": [
    "# 80-20 split (https://scikit-learn.org/stable/modules/generated/sklearn.model_selection.train_test_split.html)\n",
    "labels = np.array([0]*class_size + [1]*class_size)\n",
    "\n",
    "x_train_full_scale, x_test_full_scale, y_train, y_test = train_test_split(np.concatenate((x0, x1), axis=0), labels, test_size=0.2, random_state=SEED, stratify=labels)\n",
    "\n",
    "print(f'Size of the train set: {len(x_train_full_scale)}\\nSize of the test set: {len(x_test_full_scale)}')"
   ]
  },
  {
   "cell_type": "code",
   "execution_count": 7,
   "id": "7fa78bed",
   "metadata": {},
   "outputs": [
    {
     "data": {
      "image/png": "[encoded data removed]",
      "text/plain": [
       "<Figure size 864x288 with 16 Axes>"
      ]
     },
     "metadata": {},
     "output_type": "display_data"
    }
   ],
   "source": [
    "# https://scikit-image.org/docs/dev/api/skimage.transform.html#skimage.transform.resize\n",
    "x_train = np.vstack([[resize(x_i, (4,1), anti_aliasing=False) for x_i in x_train_full_scale]])\n",
    "x_test = np.vstack([[resize(x_i, (4,1), anti_aliasing=False) for x_i in x_test_full_scale]])\n",
    "\n",
    "num_samples = 8\n",
    "sources = [x_train_full_scale, x_train]\n",
    "fig, axes = plt.subplots(nrows=2, ncols=num_samples, figsize=(12, 4))\n",
    "for i in range(num_samples):\n",
    "    for s in range(len(sources)):\n",
    "        axes[s, i].imshow(sources[s][i,:,:], cmap=plt.cm.gray_r)\n",
    "        axes[s, i ].set_xticks([])\n",
    "        axes[s, i].set_yticks([])\n",
    "        axes[s, i].set_title(f\"Label: {y_train[i]}\")"
   ]
  },
  {
   "cell_type": "code",
   "execution_count": 8,
   "id": "ad28acc4",
   "metadata": {},
   "outputs": [
    {
     "ename": "AttributeError",
     "evalue": "'list' object has no attribute 'reshape'",
     "output_type": "error",
     "traceback": [
      "\u001b[1;31m---------------------------------------------------------------------------\u001b[0m",
      "\u001b[1;31mAttributeError\u001b[0m                            Traceback (most recent call last)",
      "\u001b[1;32m~\\AppData\\Local\\Temp/ipykernel_23048/1196253697.py\u001b[0m in \u001b[0;36m<module>\u001b[1;34m\u001b[0m\n\u001b[0;32m      6\u001b[0m \u001b[0my_train\u001b[0m \u001b[1;33m=\u001b[0m \u001b[1;33m[\u001b[0m\u001b[0mnp\u001b[0m\u001b[1;33m.\u001b[0m\u001b[0meye\u001b[0m\u001b[1;33m(\u001b[0m\u001b[1;36m2\u001b[0m\u001b[1;33m)\u001b[0m\u001b[1;33m[\u001b[0m\u001b[1;36m0\u001b[0m \u001b[1;32mif\u001b[0m \u001b[0mlabels\u001b[0m\u001b[1;33m[\u001b[0m\u001b[1;36m0\u001b[0m\u001b[1;33m]\u001b[0m \u001b[1;33m==\u001b[0m \u001b[0my_i\u001b[0m \u001b[1;32melse\u001b[0m \u001b[1;36m1\u001b[0m\u001b[1;33m]\u001b[0m \u001b[1;32mfor\u001b[0m \u001b[0my_i\u001b[0m \u001b[1;32min\u001b[0m \u001b[0my_train\u001b[0m\u001b[1;33m]\u001b[0m\u001b[1;33m\u001b[0m\u001b[1;33m\u001b[0m\u001b[0m\n\u001b[0;32m      7\u001b[0m \u001b[0my_test\u001b[0m \u001b[1;33m=\u001b[0m \u001b[1;33m[\u001b[0m\u001b[0mnp\u001b[0m\u001b[1;33m.\u001b[0m\u001b[0meye\u001b[0m\u001b[1;33m(\u001b[0m\u001b[1;36m2\u001b[0m\u001b[1;33m)\u001b[0m\u001b[1;33m[\u001b[0m\u001b[1;36m0\u001b[0m \u001b[1;32mif\u001b[0m \u001b[0mlabels\u001b[0m\u001b[1;33m[\u001b[0m\u001b[1;36m0\u001b[0m\u001b[1;33m]\u001b[0m \u001b[1;33m==\u001b[0m \u001b[0my_i\u001b[0m \u001b[1;32melse\u001b[0m \u001b[1;36m1\u001b[0m\u001b[1;33m]\u001b[0m \u001b[1;32mfor\u001b[0m \u001b[0my_i\u001b[0m \u001b[1;32min\u001b[0m \u001b[0my_test\u001b[0m\u001b[1;33m]\u001b[0m\u001b[1;33m\u001b[0m\u001b[1;33m\u001b[0m\u001b[0m\n\u001b[1;32m----> 8\u001b[1;33m \u001b[0my_train\u001b[0m \u001b[1;33m=\u001b[0m \u001b[0my_train\u001b[0m\u001b[1;33m.\u001b[0m\u001b[0mreshape\u001b[0m\u001b[1;33m(\u001b[0m\u001b[0my_train\u001b[0m\u001b[1;33m.\u001b[0m\u001b[0mshape\u001b[0m\u001b[1;33m[\u001b[0m\u001b[1;33m:\u001b[0m\u001b[1;33m-\u001b[0m\u001b[1;36m1\u001b[0m\u001b[1;33m]\u001b[0m\u001b[1;33m)\u001b[0m\u001b[1;33m\u001b[0m\u001b[1;33m\u001b[0m\u001b[0m\n\u001b[0m\u001b[0;32m      9\u001b[0m \u001b[0my_test\u001b[0m \u001b[1;33m=\u001b[0m  \u001b[0my_test\u001b[0m\u001b[1;33m.\u001b[0m\u001b[0mreshape\u001b[0m\u001b[1;33m(\u001b[0m\u001b[0my_train\u001b[0m\u001b[1;33m.\u001b[0m\u001b[0mshape\u001b[0m\u001b[1;33m[\u001b[0m\u001b[1;33m:\u001b[0m\u001b[1;33m-\u001b[0m\u001b[1;36m1\u001b[0m\u001b[1;33m]\u001b[0m\u001b[1;33m)\u001b[0m\u001b[1;33m\u001b[0m\u001b[1;33m\u001b[0m\u001b[0m\n",
      "\u001b[1;31mAttributeError\u001b[0m: 'list' object has no attribute 'reshape'"
     ]
    }
   ],
   "source": [
    "# Reshape input data size from (4,1) to (4,)\n",
    "x_train = x_train.reshape(x_train.shape[:-1])\n",
    "x_test = x_test.reshape(x_test.shape[:-1])\n",
    "\n",
    "# # Use one-hot encoding for labels: {0, 1} -> {[1,0], [0,1]}\n",
    "y_train = [np.eye(2)[0 if labels[0] == y_i else 1] for y_i in y_train]\n",
    "y_test = [np.eye(2)[0 if labels[0] == y_i else 1] for y_i in y_test]\n",
    "y_train = y_train.reshape(y_train.shape[:-1])\n",
    "y_test =  y_test.reshape(y_train.shape[:-1])"
   ]
  },
  {
   "cell_type": "code",
   "execution_count": null,
   "id": "1f210e10",
   "metadata": {},
   "outputs": [],
   "source": [
    "#Defining a quantum instance\n",
    "simulator = Aer.get_backend('qasm_simulator')\n",
    "shots = 8092\n",
    "qinst = QuantumInstance(simulator, shots, SEED)"
   ]
  },
  {
   "cell_type": "code",
   "execution_count": null,
   "id": "953343fe",
   "metadata": {},
   "outputs": [],
   "source": [
    "pauli_map = PauliFeatureMap(feature_dimension=4, reps=2, entanglement='linear')\n",
    "\n",
    "#Building the kernel matrix\n",
    "pauli_kernel = QuantumKernel(feature_map=pauli_map, quantum_instance=qinst)\n",
    "\n",
    "#Constructing the inner product circuit for given datapoints and feature map\n",
    "pauli_circuit = pauli_kernel.construct_circuit(x_train[0], x_train[1])\n",
    "\n",
    "pauli_circuit.decompose().draw('mpl')"
   ]
  },
  {
   "cell_type": "code",
   "execution_count": null,
   "id": "f7b34edc",
   "metadata": {},
   "outputs": [],
   "source": [
    "job = execute(pauli_circuit, backend = simulator, shots=shots)\n",
    "counts = job.result().get_counts(pauli_circuit)\n",
    "counts"
   ]
  },
  {
   "cell_type": "code",
   "execution_count": null,
   "id": "4ba29bcb",
   "metadata": {},
   "outputs": [],
   "source": [
    "#How many times we count the 00 bitstring after our transition amplitude circuit. Changing the number of shots will obviously affect this value.\n",
    "print(f\"Transition amplitude: {counts['0000']/sum(counts.values())}\")"
   ]
  },
  {
   "cell_type": "code",
   "execution_count": null,
   "id": "28d5b695",
   "metadata": {},
   "outputs": [],
   "source": [
    "train_matrix= pauli_kernel.evaluate(x_vec=x_train)\n",
    "test_matrix = pauli_kernel.evaluate(x_vec=x_test, y_vec=x_train)\n",
    "\n",
    "fig, axs = plt.subplots(1, figsize=(10, 5))\n",
    "axs.imshow(\n",
    "    np.asmatrix(train_matrix), interpolation=\"nearest\", origin=\"upper\", cmap=\"Blues\"\n",
    ")\n",
    "axs.set_title(\"Train kernel matrix\")\n",
    "plt.show()"
   ]
  },
  {
   "cell_type": "code",
   "execution_count": null,
   "id": "5b2baf67",
   "metadata": {},
   "outputs": [],
   "source": [
    "model = SVC(kernel= pauli_kernel.evaluate)\n",
    "\n",
    "#Fiting the SVM model according to the given training data.\n",
    "model.fit(x_train, y_train)"
   ]
  },
  {
   "cell_type": "code",
   "execution_count": null,
   "id": "56a21315",
   "metadata": {},
   "outputs": [],
   "source": [
    "# print(\"Number of support vectors for each class:\",model.n_support_)\n",
    "# print(\"Indices of support vectors:\", model.support_)\n",
    "\n",
    "# Plot support vectors\n",
    "plt.figure(figsize=(5, 5))\n",
    "\n",
    "plt.scatter(x_train[model.support_[0:model.n_support_[0] ], 0],\n",
    "            x_train[model.support_[0:model.n_support_[0] ], 1],\n",
    "            marker='s', label=\"A support\")\n",
    "plt.scatter(x_train[model.support_[model.n_support_[0]:], 0],\n",
    "            x_train[model.support_[model.n_support_[0]:], 1],\n",
    "            marker='o', c='C3', label=\"B support\")\n",
    "plt.legend(loc='upper left', frameon=False)\n",
    "plt.show()"
   ]
  },
  {
   "cell_type": "code",
   "execution_count": null,
   "id": "fb525d37",
   "metadata": {},
   "outputs": [],
   "source": [
    "score = model.score(x_test, y_test)\n",
    "print(f'Callable kernel classification test score: {score}')"
   ]
  }
 ],
 "metadata": {
  "kernelspec": {
   "display_name": "Python 3 (ipykernel)",
   "language": "python",
   "name": "python3"
  },
  "language_info": {
   "codemirror_mode": {
    "name": "ipython",
    "version": 3
   },
   "file_extension": ".py",
   "mimetype": "text/x-python",
   "name": "python",
   "nbconvert_exporter": "python",
   "pygments_lexer": "ipython3",
   "version": "3.9.7"
  }
 },
 "nbformat": 4,
 "nbformat_minor": 5
}
